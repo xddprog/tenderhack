{
 "cells": [
  {
   "cell_type": "code",
   "execution_count": 39,
   "metadata": {},
   "outputs": [],
   "source": [
    "from langchain.vectorstores import FAISS\n",
    "from langchain.embeddings import HuggingFaceEmbeddings\n",
    "import requests\n",
    "import json"
   ]
  },
  {
   "cell_type": "code",
   "execution_count": 14,
   "metadata": {},
   "outputs": [
    {
     "name": "stderr",
     "output_type": "stream",
     "text": [
      "No sentence-transformers model found with name bert-base-multilingual-cased. Creating a new one with mean pooling.\n"
     ]
    }
   ],
   "source": [
    "# Initialize the embedding model\n",
    "embeddings = HuggingFaceEmbeddings(model_name='bert-base-multilingual-cased')\n",
    "\n",
    "# Load the title vector store from the local directory\n",
    "title_vector_store = FAISS.load_local('title_faiss_index', embeddings, allow_dangerous_deserialization=True)"
   ]
  },
  {
   "cell_type": "code",
   "execution_count": 23,
   "metadata": {},
   "outputs": [],
   "source": [
    "query = \"Как подписать контракт после отказа заказчика от заключения?\""
   ]
  },
  {
   "cell_type": "code",
   "execution_count": 27,
   "metadata": {},
   "outputs": [],
   "source": [
    "# Retrieve the top 3 most relevant titles\n",
    "top_k = 10\n",
    "relevant_titles = title_vector_store.similarity_search(query, k=top_k)"
   ]
  },
  {
   "cell_type": "code",
   "execution_count": 28,
   "metadata": {},
   "outputs": [],
   "source": [
    "# Extract the article titles from the results\n",
    "relevant_topic_names = [doc.page_content for doc in relevant_titles]"
   ]
  },
  {
   "cell_type": "code",
   "execution_count": 29,
   "metadata": {},
   "outputs": [
    {
     "name": "stdout",
     "output_type": "stream",
     "text": [
      "Relevant topic names:\n",
      "- Как выбрать другого поставщика по закупки по потребности, если поставщик отказался от заключения контракта?\n",
      "- Подписание контракта после отказа от заключения со стороны заказчика.\n",
      "- Почему не получается скачать документ контракта/подписанный документ контракта?\n",
      "- Можно ли изменить номер контракта в карточке контракта?\n",
      "- Что делать, если не отображаются подписи в заключенном контракте?\n",
      "- Как заполнить раздел «Контактная информация» в профиле компании в случае отсутствия сайта?\n",
      "- Как заполнить раздел «Контактная информация» в профиле компании в случае отсутствия сайта?\n",
      "- Как проверить причину отклонения заявки на регистрацию/изменение данных компании на Портале поставщиков?\n",
      "- Как на Портале поставщиков ознакомиться с реестром заказчиков?\n",
      "- Как в УПД по контракту, имеющему электронное исполнение через ГИС ЕИС, заполнить строку 5а?\n"
     ]
    }
   ],
   "source": [
    "# Print the relevant topic names\n",
    "print(\"Relevant topic names:\")\n",
    "for topic in relevant_topic_names:\n",
    "    print(f\"- {topic}\")"
   ]
  },
  {
   "cell_type": "code",
   "execution_count": 30,
   "metadata": {},
   "outputs": [],
   "source": [
    "def retrieve_relevant_chunks(query, relevant_topic_names, chunk_vector_store, top_k=5):\n",
    "    \"\"\"\n",
    "    Retrieve the most relevant chunks from the descriptions of the relevant articles.\n",
    "\n",
    "    Args:\n",
    "        query (str): The user's query.\n",
    "        relevant_topic_names (list): List of relevant article titles from the first step.\n",
    "        chunk_vector_store (FAISS): The vector store with description chunks.\n",
    "        top_k (int): Number of top chunks to retrieve.\n",
    "\n",
    "    Returns:\n",
    "        list: List of relevant chunk texts.\n",
    "    \"\"\"\n",
    "    # Filter to only include chunks from relevant articles\n",
    "    filter_dict = {'article': {'$in': relevant_topic_names}}\n",
    "    \n",
    "    # Perform similarity search with the query and filter\n",
    "    relevant_chunks = chunk_vector_store.similarity_search(query, k=top_k, filter=filter_dict)\n",
    "    \n",
    "    # Extract the chunk texts from the search results\n",
    "    return [doc.page_content for doc in relevant_chunks]"
   ]
  },
  {
   "cell_type": "code",
   "execution_count": 32,
   "metadata": {},
   "outputs": [],
   "source": [
    "# Load the chunk vector store containing description embeddings\n",
    "chunk_vector_store = FAISS.load_local('chunk_faiss_index', embeddings, allow_dangerous_deserialization=True)"
   ]
  },
  {
   "cell_type": "code",
   "execution_count": 33,
   "metadata": {},
   "outputs": [],
   "source": [
    "# Retrieve the relevant chunks\n",
    "relevant_chunks = retrieve_relevant_chunks(query, relevant_topic_names, chunk_vector_store)"
   ]
  },
  {
   "cell_type": "code",
   "execution_count": 37,
   "metadata": {},
   "outputs": [
    {
     "name": "stdout",
     "output_type": "stream",
     "text": [
      "Нашли:\n",
      "1. Если поставщик отказался от заключения контракта или истекло время подписания контракта, происходит автоматический отказ от участия поставщика в закупки по потребности.\n",
      "В результате отказа поставщика от заключения контракта по закупки по потребности происходят следующее:\n",
      "\n",
      "предложение поставщика исчезает с вкладки «Предложение» закупки по потребности;\n",
      "заказчику приходит уведомление о смене статуса контракта;\n",
      "\n",
      "у заказчика появляется возможность выбрать предложение другого поставщика.\n",
      "\n",
      "\n",
      " \n",
      " \n",
      "После выбора заказчиком второго поставщика по закупки по потребности происходит стандартный процесс подписания контракта.\n",
      "2. После отказа от заключения контракта заказчик вместо отправления нового проекта продлил сроки подписания по неактуальному документу. Для решения данного вопроса вам необходимо связаться с заказчиком, для направления нового проекта контракта.\n"
     ]
    }
   ],
   "source": [
    "# Print the retrieved chunks\n",
    "print(\"Нашли:\")\n",
    "for i, chunk in enumerate(relevant_chunks, 1):\n",
    "    print(f\"{i}. {chunk}\")"
   ]
  },
  {
   "cell_type": "code",
   "execution_count": null,
   "metadata": {},
   "outputs": [],
   "source": [
    "def local_model_call(user_prompt, retrieved_chunks):\n",
    "    # Create the prompt with the user's request\n",
    "    context = \"\\n\".join(retrieved_chunks)\n",
    "    \n",
    "    prompt = f\"\"\"\n",
    "Ты - ассистент по поиску информации в данных. Используй следующий контекст для ответа на вопрос пользователя.\n",
    "Если ты считаешь, что контекста недостаточно для формирования ответа, ответь что не можешь помочь в решении данного вопоса\n",
    "Контекст:\n",
    "{context}\n",
    "\n",
    "Запрос пользователя:\n",
    "{user_prompt}\n",
    "\n",
    "Ответ:\n",
    "\"\"\"\n",
    "    # Define the Ollama API endpoint\n",
    "    url = \"http://localhost:11434/api/generate\"\n",
    "    \n",
    "    # Prepare the request payload\n",
    "    data = {\n",
    "        \"model\": \"yandex/YandexGPT-5-Lite-8B-instruct-GGUF:latest\",  # Specify YandexGPT as the model\n",
    "        \"prompt\": prompt       # The instruction for YandexGPT\n",
    "    }\n",
    "    \n",
    "    # Send the request to Ollama API with streaming enabled\n",
    "    response = requests.post(url, json=data, stream=True)\n",
    "    \n",
    "    # Collect the generated search query from the streamed response\n",
    "    search_query = \"\"\n",
    "    for line in response.iter_lines():\n",
    "        if line:\n",
    "            json_response = json.loads(line)\n",
    "            if \"response\" in json_response:\n",
    "                search_query += json_response[\"response\"]\n",
    "                print(json_response[\"response\"], end='')\n",
    "            if json_response.get(\"done\", False):\n",
    "                break\n",
    "    \n",
    "    # Return the cleaned-up search query\n",
    "    return search_query.strip()"
   ]
  },
  {
   "cell_type": "code",
   "execution_count": null,
   "metadata": {},
   "outputs": [
    {
     "name": "stdout",
     "output_type": "stream",
     "text": [
      " После отказа поставщика от заключения контракта заказчик может выбрать предложение другого поставщика и начать стандартный процесс подписания контракта. Для этого необходимо:\n",
      "1. Выбрать новое предложение от другого поставщика.\n",
      "2. Начать процедуру подписания контракта с новым поставщиком.\n"
     ]
    },
    {
     "data": {
      "text/plain": [
       "'После отказа поставщика от заключения контракта заказчик может выбрать предложение другого поставщика и начать стандартный процесс подписания контракта. Для этого необходимо:\\n1. Выбрать новое предложение от другого поставщика.\\n2. Начать процедуру подписания контракта с новым поставщиком.'"
      ]
     },
     "execution_count": 41,
     "metadata": {},
     "output_type": "execute_result"
    }
   ],
   "source": [
    "answer = local_model_call(query, relevant_chunks)"
   ]
  },
  {
   "cell_type": "code",
   "execution_count": 42,
   "metadata": {},
   "outputs": [
    {
     "name": "stdout",
     "output_type": "stream",
     "text": [
      "После отказа поставщика от заключения контракта заказчик может выбрать предложение другого поставщика и начать стандартный процесс подписания контракта. Для этого необходимо:\n",
      "1. Выбрать новое предложение от другого поставщика.\n",
      "2. Начать процедуру подписания контракта с новым поставщиком.\n"
     ]
    }
   ],
   "source": [
    "print(answer)"
   ]
  },
  {
   "cell_type": "code",
   "execution_count": null,
   "metadata": {},
   "outputs": [],
   "source": []
  }
 ],
 "metadata": {
  "kernelspec": {
   "display_name": "Python 3",
   "language": "python",
   "name": "python3"
  },
  "language_info": {
   "codemirror_mode": {
    "name": "ipython",
    "version": 3
   },
   "file_extension": ".py",
   "mimetype": "text/x-python",
   "name": "python",
   "nbconvert_exporter": "python",
   "pygments_lexer": "ipython3",
   "version": "3.11.4"
  }
 },
 "nbformat": 4,
 "nbformat_minor": 2
}
