{
 "cells": [
  {
   "cell_type": "code",
   "execution_count": 15,
   "metadata": {},
   "outputs": [],
   "source": [
    "import warnings\n",
    "warnings.filterwarnings('ignore')\n",
    "\n",
    "import pandas as pd\n",
    "\n",
    "import matplotlib.pyplot as plt\n",
    "import seaborn as sns\n",
    "\n",
    "from transformers import AlbertTokenizer, AlbertForSequenceClassification, DataCollatorWithPadding\n",
    "from torch.optim import AdamW\n",
    "from torch.utils.data import DataLoader\n",
    "from datasets import Dataset\n",
    "import torch"
   ]
  },
  {
   "cell_type": "code",
   "execution_count": 2,
   "metadata": {},
   "outputs": [
    {
     "data": {
      "text/html": [
       "<div>\n",
       "<style scoped>\n",
       "    .dataframe tbody tr th:only-of-type {\n",
       "        vertical-align: middle;\n",
       "    }\n",
       "\n",
       "    .dataframe tbody tr th {\n",
       "        vertical-align: top;\n",
       "    }\n",
       "\n",
       "    .dataframe thead th {\n",
       "        text-align: right;\n",
       "    }\n",
       "</style>\n",
       "<table border=\"1\" class=\"dataframe\">\n",
       "  <thead>\n",
       "    <tr style=\"text-align: right;\">\n",
       "      <th></th>\n",
       "      <th>Query</th>\n",
       "      <th>Label</th>\n",
       "    </tr>\n",
       "  </thead>\n",
       "  <tbody>\n",
       "    <tr>\n",
       "      <th>0</th>\n",
       "      <td>Заголовок статьи</td>\n",
       "      <td>Нерелевантный запрос</td>\n",
       "    </tr>\n",
       "    <tr>\n",
       "      <th>1</th>\n",
       "      <td>Подписание контракта после отказа от заключени...</td>\n",
       "      <td>Вопросы по базе знаний</td>\n",
       "    </tr>\n",
       "    <tr>\n",
       "      <th>2</th>\n",
       "      <td>Участие в котировочной сессии</td>\n",
       "      <td>Вопросы по базе знаний</td>\n",
       "    </tr>\n",
       "    <tr>\n",
       "      <th>3</th>\n",
       "      <td>Страница контракта организации</td>\n",
       "      <td>Вопросы по базе знаний</td>\n",
       "    </tr>\n",
       "    <tr>\n",
       "      <th>4</th>\n",
       "      <td>Определение победителя и заключение контракта ...</td>\n",
       "      <td>Вопросы по базе знаний</td>\n",
       "    </tr>\n",
       "  </tbody>\n",
       "</table>\n",
       "</div>"
      ],
      "text/plain": [
       "                                               Query                   Label\n",
       "0                                   Заголовок статьи    Нерелевантный запрос\n",
       "1  Подписание контракта после отказа от заключени...  Вопросы по базе знаний\n",
       "2                      Участие в котировочной сессии  Вопросы по базе знаний\n",
       "3                     Страница контракта организации  Вопросы по базе знаний\n",
       "4  Определение победителя и заключение контракта ...  Вопросы по базе знаний"
      ]
     },
     "execution_count": 2,
     "metadata": {},
     "output_type": "execute_result"
    }
   ],
   "source": [
    "data = pd.read_csv('albert_data.csv')\n",
    "data.head()"
   ]
  },
  {
   "cell_type": "code",
   "execution_count": 3,
   "metadata": {},
   "outputs": [
    {
     "name": "stdout",
     "output_type": "stream",
     "text": [
      "Index(['Query', 'Label'], dtype='object')\n"
     ]
    },
    {
     "data": {
      "text/plain": [
       "Index(['query', 'label'], dtype='object')"
      ]
     },
     "execution_count": 3,
     "metadata": {},
     "output_type": "execute_result"
    }
   ],
   "source": [
    "print(data.columns)\n",
    "data.columns = list(map(str.lower, data.columns))\n",
    "data.columns"
   ]
  },
  {
   "cell_type": "code",
   "execution_count": 4,
   "metadata": {},
   "outputs": [
    {
     "data": {
      "image/png": "[encoded data removed]",
      "text/plain": [
       "<Figure size 640x480 with 1 Axes>"
      ]
     },
     "metadata": {},
     "output_type": "display_data"
    }
   ],
   "source": [
    "unique_values = data.label.value_counts()\n",
    "plt.xticks(rotation=10)\n",
    "sns.barplot(unique_values);"
   ]
  },
  {
   "cell_type": "code",
   "execution_count": 5,
   "metadata": {},
   "outputs": [
    {
     "data": {
      "text/html": [
       "<div>\n",
       "<style scoped>\n",
       "    .dataframe tbody tr th:only-of-type {\n",
       "        vertical-align: middle;\n",
       "    }\n",
       "\n",
       "    .dataframe tbody tr th {\n",
       "        vertical-align: top;\n",
       "    }\n",
       "\n",
       "    .dataframe thead th {\n",
       "        text-align: right;\n",
       "    }\n",
       "</style>\n",
       "<table border=\"1\" class=\"dataframe\">\n",
       "  <thead>\n",
       "    <tr style=\"text-align: right;\">\n",
       "      <th></th>\n",
       "      <th>query</th>\n",
       "      <th>label</th>\n",
       "    </tr>\n",
       "  </thead>\n",
       "  <tbody>\n",
       "    <tr>\n",
       "      <th>0</th>\n",
       "      <td>Заголовок статьи</td>\n",
       "      <td>Нерелевантный запрос</td>\n",
       "    </tr>\n",
       "    <tr>\n",
       "      <th>118</th>\n",
       "      <td>Видео</td>\n",
       "      <td>Нерелевантный запрос</td>\n",
       "    </tr>\n",
       "    <tr>\n",
       "      <th>134</th>\n",
       "      <td>Карта сайта</td>\n",
       "      <td>Нерелевантный запрос</td>\n",
       "    </tr>\n",
       "    <tr>\n",
       "      <th>156</th>\n",
       "      <td>Вопросы и ответы</td>\n",
       "      <td>Нерелевантный запрос</td>\n",
       "    </tr>\n",
       "    <tr>\n",
       "      <th>268</th>\n",
       "      <td>Карта сайта</td>\n",
       "      <td>Нерелевантный запрос</td>\n",
       "    </tr>\n",
       "    <tr>\n",
       "      <th>372</th>\n",
       "      <td>Тестовая статья</td>\n",
       "      <td>Нерелевантный запрос</td>\n",
       "    </tr>\n",
       "    <tr>\n",
       "      <th>390</th>\n",
       "      <td>Карта сайта</td>\n",
       "      <td>Нерелевантный запрос</td>\n",
       "    </tr>\n",
       "    <tr>\n",
       "      <th>459</th>\n",
       "      <td>Новая статья про котировочные сессии 1</td>\n",
       "      <td>Нерелевантный запрос</td>\n",
       "    </tr>\n",
       "    <tr>\n",
       "      <th>464</th>\n",
       "      <td>тест знания</td>\n",
       "      <td>Нерелевантный запрос</td>\n",
       "    </tr>\n",
       "    <tr>\n",
       "      <th>465</th>\n",
       "      <td>тест знания</td>\n",
       "      <td>Нерелевантный запрос</td>\n",
       "    </tr>\n",
       "    <tr>\n",
       "      <th>466</th>\n",
       "      <td>Тест</td>\n",
       "      <td>Нерелевантный запрос</td>\n",
       "    </tr>\n",
       "    <tr>\n",
       "      <th>486</th>\n",
       "      <td>удалить этот черновик - нет изменений</td>\n",
       "      <td>Нерелевантный запрос</td>\n",
       "    </tr>\n",
       "    <tr>\n",
       "      <th>505</th>\n",
       "      <td>Статья</td>\n",
       "      <td>Нерелевантный запрос</td>\n",
       "    </tr>\n",
       "  </tbody>\n",
       "</table>\n",
       "</div>"
      ],
      "text/plain": [
       "                                      query                 label\n",
       "0                          Заголовок статьи  Нерелевантный запрос\n",
       "118                                   Видео  Нерелевантный запрос\n",
       "134                             Карта сайта  Нерелевантный запрос\n",
       "156                        Вопросы и ответы  Нерелевантный запрос\n",
       "268                             Карта сайта  Нерелевантный запрос\n",
       "372                         Тестовая статья  Нерелевантный запрос\n",
       "390                             Карта сайта  Нерелевантный запрос\n",
       "459  Новая статья про котировочные сессии 1  Нерелевантный запрос\n",
       "464                             тест знания  Нерелевантный запрос\n",
       "465                             тест знания  Нерелевантный запрос\n",
       "466                                    Тест  Нерелевантный запрос\n",
       "486   удалить этот черновик - нет изменений  Нерелевантный запрос\n",
       "505                                  Статья  Нерелевантный запрос"
      ]
     },
     "execution_count": 5,
     "metadata": {},
     "output_type": "execute_result"
    }
   ],
   "source": [
    "data[data.label == 'Нерелевантный запрос']"
   ]
  },
  {
   "cell_type": "markdown",
   "metadata": {},
   "source": [
    "Бд я посмотрел, там в целом +- норм разметка"
   ]
  },
  {
   "cell_type": "code",
   "execution_count": 6,
   "metadata": {},
   "outputs": [
    {
     "name": "stderr",
     "output_type": "stream",
     "text": [
      "Some weights of AlbertForSequenceClassification were not initialized from the model checkpoint at albert-base-v2 and are newly initialized: ['classifier.bias', 'classifier.weight']\n",
      "You should probably TRAIN this model on a down-stream task to be able to use it for predictions and inference.\n"
     ]
    },
    {
     "name": "stdout",
     "output_type": "stream",
     "text": [
      "num_classes: 3\n"
     ]
    }
   ],
   "source": [
    "albert_tokenizer = AlbertTokenizer.from_pretrained(\"albert-base-v2\")\n",
    "albert_model = AlbertForSequenceClassification.from_pretrained(\"albert-base-v2\", num_labels=len(unique_values))\n",
    "print(f'num_classes: {len(unique_values)}')"
   ]
  },
  {
   "cell_type": "code",
   "execution_count": 7,
   "metadata": {},
   "outputs": [
    {
     "name": "stdout",
     "output_type": "stream",
     "text": [
      "0 - Вопросы по базе знаний\n",
      "1 - Техническая поддержка\n",
      "2 - Нерелевантный запрос\n"
     ]
    }
   ],
   "source": [
    "for i, row in enumerate(unique_values.index):\n",
    "    print(f'{i} - {row}')"
   ]
  },
  {
   "cell_type": "code",
   "execution_count": 8,
   "metadata": {},
   "outputs": [],
   "source": [
    "convert_dict = {\n",
    "    'Вопросы по базе знаний' : 0,\n",
    "    'Техническая поддержка' : 1,\n",
    "    'Нерелевантный запрос' : 2\n",
    "}"
   ]
  },
  {
   "cell_type": "code",
   "execution_count": 9,
   "metadata": {},
   "outputs": [
    {
     "data": {
      "text/html": [
       "<div>\n",
       "<style scoped>\n",
       "    .dataframe tbody tr th:only-of-type {\n",
       "        vertical-align: middle;\n",
       "    }\n",
       "\n",
       "    .dataframe tbody tr th {\n",
       "        vertical-align: top;\n",
       "    }\n",
       "\n",
       "    .dataframe thead th {\n",
       "        text-align: right;\n",
       "    }\n",
       "</style>\n",
       "<table border=\"1\" class=\"dataframe\">\n",
       "  <thead>\n",
       "    <tr style=\"text-align: right;\">\n",
       "      <th></th>\n",
       "      <th>query</th>\n",
       "      <th>label</th>\n",
       "      <th>label_id</th>\n",
       "    </tr>\n",
       "  </thead>\n",
       "  <tbody>\n",
       "    <tr>\n",
       "      <th>0</th>\n",
       "      <td>Заголовок статьи</td>\n",
       "      <td>Нерелевантный запрос</td>\n",
       "      <td>2</td>\n",
       "    </tr>\n",
       "    <tr>\n",
       "      <th>1</th>\n",
       "      <td>Подписание контракта после отказа от заключени...</td>\n",
       "      <td>Вопросы по базе знаний</td>\n",
       "      <td>0</td>\n",
       "    </tr>\n",
       "    <tr>\n",
       "      <th>2</th>\n",
       "      <td>Участие в котировочной сессии</td>\n",
       "      <td>Вопросы по базе знаний</td>\n",
       "      <td>0</td>\n",
       "    </tr>\n",
       "    <tr>\n",
       "      <th>3</th>\n",
       "      <td>Страница контракта организации</td>\n",
       "      <td>Вопросы по базе знаний</td>\n",
       "      <td>0</td>\n",
       "    </tr>\n",
       "    <tr>\n",
       "      <th>4</th>\n",
       "      <td>Определение победителя и заключение контракта ...</td>\n",
       "      <td>Вопросы по базе знаний</td>\n",
       "      <td>0</td>\n",
       "    </tr>\n",
       "  </tbody>\n",
       "</table>\n",
       "</div>"
      ],
      "text/plain": [
       "                                               query                   label  \\\n",
       "0                                   Заголовок статьи    Нерелевантный запрос   \n",
       "1  Подписание контракта после отказа от заключени...  Вопросы по базе знаний   \n",
       "2                      Участие в котировочной сессии  Вопросы по базе знаний   \n",
       "3                     Страница контракта организации  Вопросы по базе знаний   \n",
       "4  Определение победителя и заключение контракта ...  Вопросы по базе знаний   \n",
       "\n",
       "   label_id  \n",
       "0         2  \n",
       "1         0  \n",
       "2         0  \n",
       "3         0  \n",
       "4         0  "
      ]
     },
     "execution_count": 9,
     "metadata": {},
     "output_type": "execute_result"
    }
   ],
   "source": [
    "data['label_id'] = data.label.apply(lambda row: convert_dict[row])\n",
    "data.head()"
   ]
  },
  {
   "cell_type": "code",
   "execution_count": 13,
   "metadata": {},
   "outputs": [],
   "source": [
    "def tokenize_function(examples):\n",
    "    # Tokenize the 'query' column, truncate to max_length=128, no padding here\n",
    "    return albert_tokenizer(examples['query'], truncation=True, max_length=128)"
   ]
  },
  {
   "cell_type": "code",
   "execution_count": 16,
   "metadata": {},
   "outputs": [],
   "source": [
    "dataset = Dataset.from_pandas(data)"
   ]
  },
  {
   "cell_type": "code",
   "execution_count": 17,
   "metadata": {},
   "outputs": [
    {
     "name": "stderr",
     "output_type": "stream",
     "text": [
      "Map:   0%|          | 0/627 [00:00<?, ? examples/s]"
     ]
    },
    {
     "name": "stderr",
     "output_type": "stream",
     "text": [
      "Map: 100%|██████████| 627/627 [00:00<00:00, 3710.96 examples/s]\n"
     ]
    },
    {
     "data": {
      "text/plain": [
       "Dataset({\n",
       "    features: ['query', 'label', 'label_id', 'input_ids', 'token_type_ids', 'attention_mask'],\n",
       "    num_rows: 627\n",
       "})"
      ]
     },
     "execution_count": 17,
     "metadata": {},
     "output_type": "execute_result"
    }
   ],
   "source": [
    "tokenized_dataset = dataset.map(tokenize_function, batched=True)\n",
    "tokenized_dataset"
   ]
  },
  {
   "cell_type": "code",
   "execution_count": 18,
   "metadata": {},
   "outputs": [
    {
     "data": {
      "text/plain": [
       "Dataset({\n",
       "    features: ['query', 'label_decoded', 'labels', 'input_ids', 'token_type_ids', 'attention_mask'],\n",
       "    num_rows: 627\n",
       "})"
      ]
     },
     "execution_count": 18,
     "metadata": {},
     "output_type": "execute_result"
    }
   ],
   "source": [
    "# Step 4: Rename 'label_id' to 'labels' for the Trainer\n",
    "tokenized_dataset = tokenized_dataset.rename_column('label_id', 'labels')\n",
    "tokenized_dataset = tokenized_dataset.rename_column('label', 'label_decoded')\n",
    "tokenized_dataset"
   ]
  },
  {
   "cell_type": "code",
   "execution_count": 19,
   "metadata": {},
   "outputs": [
    {
     "data": {
      "text/plain": [
       "Dataset({\n",
       "    features: ['query', 'label_decoded', 'labels', 'input_ids', 'token_type_ids', 'attention_mask'],\n",
       "    num_rows: 627\n",
       "})"
      ]
     },
     "execution_count": 19,
     "metadata": {},
     "output_type": "execute_result"
    }
   ],
   "source": [
    "tokenized_dataset.set_format('torch', columns=['input_ids', 'attention_mask', 'labels'])\n",
    "tokenized_dataset"
   ]
  },
  {
   "cell_type": "code",
   "execution_count": 20,
   "metadata": {},
   "outputs": [],
   "source": [
    "train_test = tokenized_dataset.train_test_split(test_size=0.2)\n",
    "train_dataset = train_test['train']\n",
    "eval_dataset = train_test['test']"
   ]
  },
  {
   "cell_type": "code",
   "execution_count": 21,
   "metadata": {},
   "outputs": [],
   "source": [
    "# Create DataLoaders with dynamic padding\n",
    "data_collator = DataCollatorWithPadding(albert_tokenizer)\n",
    "train_dataloader = DataLoader(train_dataset, batch_size=16, shuffle=True, collate_fn=data_collator)\n",
    "eval_dataloader = DataLoader(eval_dataset, batch_size=16, collate_fn=data_collator)"
   ]
  },
  {
   "cell_type": "code",
   "execution_count": 22,
   "metadata": {},
   "outputs": [
    {
     "data": {
      "text/plain": [
       "(Dataset({\n",
       "     features: ['query', 'label_decoded', 'labels', 'input_ids', 'token_type_ids', 'attention_mask'],\n",
       "     num_rows: 501\n",
       " }),\n",
       " Dataset({\n",
       "     features: ['query', 'label_decoded', 'labels', 'input_ids', 'token_type_ids', 'attention_mask'],\n",
       "     num_rows: 126\n",
       " }))"
      ]
     },
     "execution_count": 22,
     "metadata": {},
     "output_type": "execute_result"
    }
   ],
   "source": [
    "train_dataloader.dataset, eval_dataloader.dataset"
   ]
  },
  {
   "cell_type": "code",
   "execution_count": 23,
   "metadata": {},
   "outputs": [],
   "source": [
    "# Set up the optimizer and device\n",
    "optimizer = AdamW(albert_model.parameters(), lr=2e-5)\n",
    "device = torch.device('cuda' if torch.cuda.is_available() else 'cpu')\n",
    "albert_model.to(device);"
   ]
  },
  {
   "cell_type": "code",
   "execution_count": 27,
   "metadata": {},
   "outputs": [
    {
     "name": "stdout",
     "output_type": "stream",
     "text": [
      "Epoch 1, Train Loss: 0.4838\n",
      "Epoch 1, Eval Accuracy: 0.7902\n",
      "Epoch 2, Train Loss: 0.5009\n",
      "Epoch 2, Eval Accuracy: 0.8069\n",
      "Epoch 3, Train Loss: 0.4601\n",
      "Epoch 3, Eval Accuracy: 0.8080\n",
      "Epoch 4, Train Loss: 0.5026\n",
      "Epoch 4, Eval Accuracy: 0.8080\n",
      "Epoch 5, Train Loss: 0.4792\n",
      "Epoch 5, Eval Accuracy: 0.8158\n",
      "Epoch 6, Train Loss: 0.4671\n",
      "Epoch 6, Eval Accuracy: 0.7902\n",
      "Epoch 7, Train Loss: 0.4783\n",
      "Epoch 7, Eval Accuracy: 0.8315\n",
      "Epoch 8, Train Loss: 0.4580\n",
      "Epoch 8, Eval Accuracy: 0.8002\n",
      "Epoch 9, Train Loss: 0.4624\n",
      "Epoch 9, Eval Accuracy: 0.7846\n",
      "Epoch 10, Train Loss: 0.4340\n",
      "Epoch 10, Eval Accuracy: 0.8158\n",
      "Epoch 11, Train Loss: 0.4135\n",
      "Epoch 11, Eval Accuracy: 0.7388\n",
      "Epoch 12, Train Loss: 0.4085\n",
      "Epoch 12, Eval Accuracy: 0.8315\n",
      "Epoch 13, Train Loss: 0.3931\n",
      "Epoch 13, Eval Accuracy: 0.8315\n",
      "Epoch 14, Train Loss: 0.3953\n",
      "Epoch 14, Eval Accuracy: 0.8158\n",
      "Epoch 15, Train Loss: 0.4041\n",
      "Epoch 15, Eval Accuracy: 0.8080\n"
     ]
    }
   ],
   "source": [
    "# Training loop\n",
    "num_epochs = 15\n",
    "for epoch in range(num_epochs):\n",
    "    # Training phase\n",
    "    albert_model.train()\n",
    "    total_train_loss = 0\n",
    "    for batch in train_dataloader:\n",
    "        # Move batch to device\n",
    "        batch = {k: v.to(device) for k, v in batch.items()}\n",
    "        # Forward pass\n",
    "        outputs = albert_model(**batch)\n",
    "        loss = outputs.loss\n",
    "        total_train_loss += loss.item()\n",
    "        # Backward pass and optimization\n",
    "        optimizer.zero_grad()\n",
    "        loss.backward()\n",
    "        optimizer.step()\n",
    "    \n",
    "    # Compute and print average training loss\n",
    "    avg_train_loss = total_train_loss / len(train_dataloader)\n",
    "    print(f'Epoch {epoch+1}, Train Loss: {avg_train_loss:.4f}')\n",
    "\n",
    "    # Evaluation phase\n",
    "    albert_model.eval()\n",
    "    total_eval_accuracy = 0\n",
    "    for batch in eval_dataloader:\n",
    "        # Move batch to device\n",
    "        batch = {k: v.to(device) for k, v in batch.items()}\n",
    "        with torch.no_grad():\n",
    "            # Forward pass\n",
    "            outputs = albert_model(**batch)\n",
    "            logits = outputs.logits\n",
    "            # Compute predictions\n",
    "            predictions = torch.argmax(logits, dim=-1)\n",
    "            labels = batch['labels']\n",
    "            # Calculate accuracy\n",
    "            accuracy = (predictions == labels).float().mean()\n",
    "            total_eval_accuracy += accuracy.item()\n",
    "    \n",
    "    # Compute and print average evaluation accuracy\n",
    "    avg_eval_accuracy = total_eval_accuracy / len(eval_dataloader)\n",
    "    print(f'Epoch {epoch+1}, Eval Accuracy: {avg_eval_accuracy:.4f}')"
   ]
  },
  {
   "cell_type": "code",
   "execution_count": 28,
   "metadata": {},
   "outputs": [
    {
     "data": {
      "text/plain": [
       "('./albert_finetuned/tokenizer_config.json',\n",
       " './albert_finetuned/special_tokens_map.json',\n",
       " './albert_finetuned/spiece.model',\n",
       " './albert_finetuned/added_tokens.json')"
      ]
     },
     "execution_count": 28,
     "metadata": {},
     "output_type": "execute_result"
    }
   ],
   "source": [
    "# After the training loop\n",
    "save_directory = \"./albert_finetuned\"\n",
    "albert_model.save_pretrained(save_directory)\n",
    "albert_tokenizer.save_pretrained(save_directory)"
   ]
  },
  {
   "cell_type": "code",
   "execution_count": 29,
   "metadata": {},
   "outputs": [],
   "source": [
    "from transformers import AlbertForSequenceClassification, AlbertTokenizer\n",
    "\n",
    "# Load the model and tokenizer\n",
    "model = AlbertForSequenceClassification.from_pretrained(save_directory)\n",
    "tokenizer = AlbertTokenizer.from_pretrained(save_directory)"
   ]
  },
  {
   "cell_type": "code",
   "execution_count": 30,
   "metadata": {},
   "outputs": [],
   "source": [
    "data.to_csv('albert_data_formatted.csv')"
   ]
  },
  {
   "cell_type": "code",
   "execution_count": null,
   "metadata": {},
   "outputs": [],
   "source": []
  }
 ],
 "metadata": {
  "kernelspec": {
   "display_name": "Python 3",
   "language": "python",
   "name": "python3"
  },
  "language_info": {
   "codemirror_mode": {
    "name": "ipython",
    "version": 3
   },
   "file_extension": ".py",
   "mimetype": "text/x-python",
   "name": "python",
   "nbconvert_exporter": "python",
   "pygments_lexer": "ipython3",
   "version": "3.11.4"
  }
 },
 "nbformat": 4,
 "nbformat_minor": 2
}
